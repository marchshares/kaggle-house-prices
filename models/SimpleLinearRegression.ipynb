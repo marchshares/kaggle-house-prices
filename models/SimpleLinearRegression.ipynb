{
 "cells": [
  {
   "cell_type": "code",
   "execution_count": 1,
   "metadata": {},
   "outputs": [],
   "source": [
    "import pandas as pd\n",
    "import numpy as np\n",
    "import matplotlib.pyplot as plt\n",
    "import seaborn as sns\n",
    "\n",
    "from sklearn.linear_model import LinearRegression"
   ]
  },
  {
   "cell_type": "code",
   "execution_count": 3,
   "metadata": {},
   "outputs": [],
   "source": [
    "train_df = pd.read_csv('../data/train.csv')\n",
    "test_df = pd.read_csv('../data/test.csv')\n"
   ]
  },
  {
   "cell_type": "code",
   "execution_count": 6,
   "metadata": {},
   "outputs": [],
   "source": [
    "column_count=24\n",
    "\n",
    "corr_matrix = train_df.corr()\n",
    "\n",
    "columns_by_correlation_with_price = train_df.corrwith(train_df.SalePrice).apply(abs).sort_values()\n",
    "correlated_columns = columns_by_correlation_with_price[::-1][1:column_count+1].keys().to_numpy()"
   ]
  },
  {
   "cell_type": "code",
   "execution_count": 7,
   "metadata": {},
   "outputs": [],
   "source": [
    "def clean_na(data, drop=False):\n",
    "    if drop:\n",
    "        data.dropna(inplace=True)\n",
    "    else:    \n",
    "        for col in data[data.isna().any(axis=1)].columns:\n",
    "            data[col].fillna(value=data[col].mean(), inplace=True)\n",
    "    \n",
    "    return data"
   ]
  },
  {
   "cell_type": "code",
   "execution_count": 8,
   "metadata": {},
   "outputs": [
    {
     "name": "stdout",
     "output_type": "stream",
     "text": [
      "Train score cols=24: 0.80256\n",
      "Columns: ['OverallQual' 'GrLivArea' 'GarageCars' 'GarageArea' 'TotalBsmtSF'\n",
      " '1stFlrSF' 'FullBath' 'TotRmsAbvGrd' 'YearBuilt' 'YearRemodAdd'\n",
      " 'GarageYrBlt' 'MasVnrArea' 'Fireplaces' 'BsmtFinSF1' 'LotFrontage'\n",
      " 'WoodDeckSF' '2ndFlrSF' 'OpenPorchSF' 'HalfBath' 'LotArea' 'BsmtFullBath'\n",
      " 'BsmtUnfSF' 'BedroomAbvGr' 'KitchenAbvGr']\n"
     ]
    }
   ],
   "source": [
    "clean_train_df = clean_na(train_df[correlated_columns].copy())\n",
    "\n",
    "X = clean_train_df\n",
    "y = train_df['SalePrice']\n",
    "    \n",
    "model = LinearRegression()\n",
    "model.fit(X, y)\n",
    "\n",
    "print(f\"Train score cols={len(correlated_columns)}: {model.score(X, y):.5f}\")\n",
    "print(f\"Columns: {correlated_columns}\")\n",
    "\n"
   ]
  },
  {
   "cell_type": "code",
   "execution_count": 9,
   "metadata": {},
   "outputs": [],
   "source": [
    "X_test = clean_na(test_df[correlated_columns].copy())\n",
    "\n",
    "y_test_pred = model.predict(X_test)\n",
    "\n",
    "output = pd.DataFrame({'Id': test_df['Id'], 'SalePrice': y_test_pred})\n",
    "output.to_csv(f'../data/SimpleLinearRegression{column_count}.csv', index=False)"
   ]
  },
  {
   "cell_type": "code",
   "execution_count": null,
   "outputs": [],
   "source": [],
   "metadata": {
    "collapsed": false,
    "pycharm": {
     "name": "#%%\n"
    }
   }
  },
  {
   "cell_type": "code",
   "execution_count": null,
   "metadata": {},
   "outputs": [],
   "source": []
  }
 ],
 "metadata": {
  "kernelspec": {
   "display_name": "PyCharm (py-notes2)",
   "language": "python",
   "name": "pycharm-ec69c579"
  },
  "language_info": {
   "codemirror_mode": {
    "name": "ipython",
    "version": 3
   },
   "file_extension": ".py",
   "mimetype": "text/x-python",
   "name": "python",
   "nbconvert_exporter": "python",
   "pygments_lexer": "ipython3",
   "version": "3.8.5"
  }
 },
 "nbformat": 4,
 "nbformat_minor": 1
}